{
 "cells": [
  {
   "cell_type": "code",
   "execution_count": 56,
   "metadata": {},
   "outputs": [],
   "source": [
    "kata = \"1abelajarr\""
   ]
  },
  {
   "cell_type": "code",
   "execution_count": 58,
   "metadata": {},
   "outputs": [
    {
     "data": {
      "text/plain": [
       "'abeljr'"
      ]
     },
     "execution_count": 58,
     "metadata": {},
     "output_type": "execute_result"
    }
   ],
   "source": [
    "def distinc_huruf(kata):\n",
    "    n_kata = list()\n",
    "    if kata[0].isalpha():\n",
    "        pass\n",
    "    else:\n",
    "        if kata[1].isalpha():\n",
    "            n_kata.append(kata[1])\n",
    "    if kata[0]=='a' or kata[0]=='m' or kata[0]=='p':#or kata[1]=='a' or kata[1]=='m' or kata[1]=='p':\n",
    "        if kata[0].isalpha():\n",
    "            n_kata.append(kata[0])\n",
    "        if kata[1] not in n_kata and kata[1].isalpha():\n",
    "            n_kata.append(kata[1])\n",
    "    for hr in kata:\n",
    "        if hr not in n_kata and hr != 'a' and hr != 'm' and hr != 'p':\n",
    "            if hr.isalpha():\n",
    "                n_kata.append(hr)\n",
    "    return \"\".join(n_kata)\n",
    "distinc_huruf(kata)"
   ]
  },
  {
   "cell_type": "code",
   "execution_count": 7,
   "metadata": {},
   "outputs": [],
   "source": []
  },
  {
   "cell_type": "code",
   "execution_count": 8,
   "metadata": {},
   "outputs": [
    {
     "data": {
      "text/plain": [
       "[]"
      ]
     },
     "execution_count": 8,
     "metadata": {},
     "output_type": "execute_result"
    }
   ],
   "source": [
    "a_"
   ]
  },
  {
   "cell_type": "code",
   "execution_count": 49,
   "metadata": {},
   "outputs": [],
   "source": []
  },
  {
   "cell_type": "code",
   "execution_count": 92,
   "metadata": {},
   "outputs": [],
   "source": [
    "alpa = 'abcdefghijklmnopqrstuvwxyz'\n",
    "for i in alpa:\n",
    "    vars()[i+\"_\"]=list()\n",
    "\n",
    "f=open('data/kata_kbbi_new.txt')\n",
    "f=f.read()\n",
    "f=f.split()\n",
    "for kt in f:\n",
    "    vars()[kt[0]+\"_\"].append(kt)\n",
    "    \n",
    "for i in alpa:\n",
    "    with open('data/kata/'+i+'.txt', 'w') as file:\n",
    "        for item in vars()[i+'_']:\n",
    "            file.write(\"%s\\n\" % item)"
   ]
  },
  {
   "cell_type": "code",
   "execution_count": 93,
   "metadata": {},
   "outputs": [
    {
     "data": {
      "text/plain": [
       "49808"
      ]
     },
     "execution_count": 93,
     "metadata": {},
     "output_type": "execute_result"
    }
   ],
   "source": []
  },
  {
   "cell_type": "code",
   "execution_count": 14,
   "metadata": {},
   "outputs": [],
   "source": []
  },
  {
   "cell_type": "code",
   "execution_count": null,
   "metadata": {},
   "outputs": [],
   "source": []
  },
  {
   "cell_type": "code",
   "execution_count": 79,
   "metadata": {},
   "outputs": [],
   "source": [
    "alpa = 'abcdefghijklmnopqrstuvwxyz'\n",
    "for i in alpa:\n",
    "    f=open('data/kata/'+i+'.txt')\n",
    "    f=f.read()\n",
    "    f=f.split()\n",
    "    vars()[i]=f\n",
    "\n",
    "def new_corpus(kata):\n",
    "    \n",
    "    corpus = list()\n",
    "    for i in distinc_huruf(kata):\n",
    "        print(i)\n",
    "        #f=open('data/kata/'+i+'.txt')\n",
    "        #f=f.read()\n",
    "        #f=f.split()\n",
    "        x = vars()[\"d\"]\n",
    "        corpus+=x\n",
    "    return corpus"
   ]
  },
  {
   "cell_type": "code",
   "execution_count": 90,
   "metadata": {},
   "outputs": [
    {
     "data": {
      "text/plain": [
       "'dengakd'"
      ]
     },
     "execution_count": 90,
     "metadata": {},
     "output_type": "execute_result"
    }
   ],
   "source": [
    "def just_get_text(kata):\n",
    "    kata_n = list()\n",
    "    for i in kata:\n",
    "        #print(i)\n",
    "        \n",
    "        if i.isalpha():\n",
    "            #kata_n.append(i)\n",
    "            #kata_n.append(i)\n",
    "            kata_n.append(i)\n",
    "    return ''.join(kata_n)\n",
    "\n",
    "just_get_text(\"123dengakd\")"
   ]
  },
  {
   "cell_type": "code",
   "execution_count": 102,
   "metadata": {},
   "outputs": [],
   "source": [
    "def just_get_text(kata):\n",
    "    kata_n = list()\n",
    "    for i in kata:\n",
    "        #print(i)\n",
    "        \n",
    "        if i.isalpha():\n",
    "            #kata_n.append(i)\n",
    "            #kata_n.append(i)\n",
    "            kata_n.append(i)\n",
    "    return ''.join(kata_n)\n",
    "\n",
    "def distinc_huruf(kata):\n",
    "    kata = just_get_text(kata)\n",
    "    if len(just_get_text(kata))==0:\n",
    "        return kata\n",
    "    n_kata = list()\n",
    "    if kata[0].isalpha():\n",
    "        pass\n",
    "    else:\n",
    "        if kata[1].isalpha() and kata[1] not in n_kata:\n",
    "            n_kata.append(kata[1])\n",
    "    if kata[0]=='a' or kata[0]=='m' or kata[0]=='p':#or kata[1]=='a' or kata[1]=='m' or kata[1]=='p':\n",
    "        if kata[0].isalpha():\n",
    "            n_kata.append(kata[0])\n",
    "        if kata[1] not in n_kata and kata[1].isalpha():\n",
    "            n_kata.append(kata[1])\n",
    "    for hr in kata:\n",
    "        if hr not in n_kata and hr != 'a' and hr != 'm' and hr != 'p':\n",
    "            if hr.isalpha():\n",
    "                n_kata.append(hr)\n",
    "    return \"\".join(n_kata)\n",
    "\n",
    "def new_corpus(kata):\n",
    "\n",
    "    corpus = list()\n",
    "    #if len(kata)==0:\n",
    "        #return []\n",
    "    for i in distinc_huruf(kata):\n",
    "        print(i)\n",
    "        f=open('data/kata/'+i+'.txt')\n",
    "        f=f.read()\n",
    "        f=f.split()\n",
    "        corpus+=f\n",
    "    return corpus"
   ]
  },
  {
   "cell_type": "code",
   "execution_count": 103,
   "metadata": {},
   "outputs": [
    {
     "data": {
      "text/plain": [
       "''"
      ]
     },
     "execution_count": 103,
     "metadata": {},
     "output_type": "execute_result"
    }
   ],
   "source": [
    "distinc_huruf(\"12312312\")"
   ]
  }
 ],
 "metadata": {
  "kernelspec": {
   "display_name": "Python 3",
   "language": "python",
   "name": "python3"
  },
  "language_info": {
   "codemirror_mode": {
    "name": "ipython",
    "version": 3
   },
   "file_extension": ".py",
   "mimetype": "text/x-python",
   "name": "python",
   "nbconvert_exporter": "python",
   "pygments_lexer": "ipython3",
   "version": "3.7.3"
  }
 },
 "nbformat": 4,
 "nbformat_minor": 2
}
